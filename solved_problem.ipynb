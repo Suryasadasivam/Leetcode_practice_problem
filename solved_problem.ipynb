{
 "cells": [
  {
   "cell_type": "code",
   "execution_count": 1,
   "metadata": {},
   "outputs": [
    {
     "data": {
      "text/plain": [
       "90"
      ]
     },
     "execution_count": 1,
     "metadata": {},
     "output_type": "execute_result"
    }
   ],
   "source": [
    "#find the largest Number in an given array \n",
    "arr=[1, 8, 7, 56, 90]\n",
    "\n",
    "def largestNumber(arr):\n",
    "    largest_number=arr[0]\n",
    "    for i in range(1,len(arr)):\n",
    "        if arr[i]>largest_number:\n",
    "            largest_number=arr[i]\n",
    "    return largest_number\n",
    "\n",
    "result=largestNumber(arr)\n",
    "result"
   ]
  },
  {
   "cell_type": "code",
   "execution_count": 4,
   "metadata": {},
   "outputs": [
    {
     "data": {
      "text/plain": [
       "88"
      ]
     },
     "execution_count": 4,
     "metadata": {},
     "output_type": "execute_result"
    }
   ],
   "source": [
    "#find the second largest number in a given array \n",
    "arr=[1, 88, 7, 56, 90]\n",
    "\n",
    "def secondlargest(arr):\n",
    "    largest_number=arr[0]\n",
    "    second_Number=arr[0]\n",
    "    for i in range(1,len(arr)):\n",
    "        if arr[i]>largest_number:\n",
    "            second_Number=largest_number\n",
    "            largest_number=arr[i]\n",
    "        else:\n",
    "            second_Number=arr[i]\n",
    "    return second_Number\n",
    "\n",
    "result=secondlargest(arr)\n",
    "result\n",
    "            "
   ]
  },
  {
   "cell_type": "code",
   "execution_count": 7,
   "metadata": {},
   "outputs": [
    {
     "data": {
      "text/plain": [
       "False"
      ]
     },
     "execution_count": 7,
     "metadata": {},
     "output_type": "execute_result"
    }
   ],
   "source": [
    "#Check if the array is sorted or not\n",
    "arr=[10, 20, 30, 40, 50]\n",
    "arr1=[10, 20, 30, 40, 30]\n",
    "\n",
    "def sortedarray(arr):\n",
    "    for i in range(1,len(arr)):\n",
    "        if arr[i]<arr[i-1]:\n",
    "            return False \n",
    "    return True\n",
    "\n",
    "result=sortedarray(arr1)\n",
    "result"
   ]
  },
  {
   "cell_type": "code",
   "execution_count": 13,
   "metadata": {},
   "outputs": [
    {
     "data": {
      "text/plain": [
       "True"
      ]
     },
     "execution_count": 13,
     "metadata": {},
     "output_type": "execute_result"
    }
   ],
   "source": [
    "#check id the array is sorted and rotated\n",
    "def sortedrotate(arr):\n",
    "    count=0\n",
    "    n=len(arr)\n",
    "    for i in range(n):\n",
    "        if arr[i]>arr[(i+1)%n]:\n",
    "            count+=1\n",
    "    return count<=1\n",
    "arr2=[30,40,50,10,20]\n",
    "result=sortedrotate(arr2)\n",
    "result"
   ]
  },
  {
   "cell_type": "code",
   "execution_count": null,
   "metadata": {},
   "outputs": [],
   "source": [
    "# remove removeDuplicates\n",
    "def removeDuplicates(self, nums: List[int]) -> int:\n",
    "    i=0\n",
    "    for j in range(1,len(nums)):\n",
    "        if nums[i]!=nums[j]:\n",
    "            i+=1\n",
    "            nums[i]=nums[j]\n",
    "        \n",
    "    return i+1"
   ]
  },
  {
   "cell_type": "code",
   "execution_count": null,
   "metadata": {},
   "outputs": [],
   "source": [
    "# rotate array\n",
    "def rotate(self, nums, k) -> None:\n",
    "        k=k%len(nums)\n",
    "        if len(nums)<k:\n",
    "            return nums\n",
    "        temp =nums[len(nums)-k:]\n",
    "\n",
    "        for i in range(len(nums)-1,-1,-1):\n",
    "            nums[i]=nums[i-k]\n",
    "        for j in range(k):\n",
    "            nums[j]=temp[j]\n",
    "        return nums"
   ]
  },
  {
   "cell_type": "code",
   "execution_count": null,
   "metadata": {},
   "outputs": [],
   "source": [
    "\n",
    "# Move zeros\n",
    "\n",
    "def moveZeroes(self, nums: List[int]) -> None:\n",
    "        i=-1\n",
    "        for j in range(len(nums)):\n",
    "            if nums[j]==0:\n",
    "                i=j\n",
    "                break\n",
    "        if i==-1:\n",
    "            return nums  \n",
    "        for k in range(i+1,len(nums)):\n",
    "            if nums[k]!=0:\n",
    "                nums[i],nums[k]=nums[k],nums[i]\n",
    "                i+=1\n",
    "        return nums"
   ]
  },
  {
   "cell_type": "code",
   "execution_count": null,
   "metadata": {},
   "outputs": [],
   "source": [
    "\n",
    "#remove elements\n",
    "def removeElement(self, nums: List[int], val: int) -> int:\n",
    "    i=0\n",
    "    for j in range(len(nums)):\n",
    "        if nums[j]!=val:\n",
    "            nums[i]=nums[j]\n",
    "            i+=1\n",
    "    return i"
   ]
  }
 ],
 "metadata": {
  "kernelspec": {
   "display_name": "Python 3",
   "language": "python",
   "name": "python3"
  },
  "language_info": {
   "codemirror_mode": {
    "name": "ipython",
    "version": 3
   },
   "file_extension": ".py",
   "mimetype": "text/x-python",
   "name": "python",
   "nbconvert_exporter": "python",
   "pygments_lexer": "ipython3",
   "version": "3.11.4"
  }
 },
 "nbformat": 4,
 "nbformat_minor": 2
}
